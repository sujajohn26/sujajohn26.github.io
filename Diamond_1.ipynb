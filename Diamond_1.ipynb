{
  "cells": [
    {
      "cell_type": "markdown",
      "metadata": {
        "id": "view-in-github",
        "colab_type": "text"
      },
      "source": [
        "<a href=\"https://colab.research.google.com/github/sujajohn26/sujajohn26.github.io/blob/main/Diamond_1.ipynb\" target=\"_parent\"><img src=\"https://colab.research.google.com/assets/colab-badge.svg\" alt=\"Open In Colab\"/></a>"
      ]
    },
    {
      "cell_type": "code",
      "execution_count": null,
      "id": "0c4ac483",
      "metadata": {
        "id": "0c4ac483",
        "outputId": "c2283479-defa-4e66-cd5f-bd7c72b3f4a1"
      },
      "outputs": [
        {
          "name": "stdout",
          "output_type": "stream",
          "text": [
            "Requirement already satisfied: pyspark in /usr/local/spark-3.1.1-bin-hadoop3.2/python (3.1.1)\n",
            "Collecting py4j==0.10.9\n",
            "  Downloading py4j-0.10.9-py2.py3-none-any.whl (198 kB)\n",
            "\u001b[K     |████████████████████████████████| 198 kB 1.8 MB/s eta 0:00:01\n",
            "\u001b[?25hInstalling collected packages: py4j\n",
            "Successfully installed py4j-0.10.9\n"
          ]
        }
      ],
      "source": [
        "! pip install pyspark"
      ]
    },
    {
      "cell_type": "code",
      "execution_count": null,
      "id": "e6e7514a",
      "metadata": {
        "id": "e6e7514a"
      },
      "outputs": [],
      "source": [
        "from pyspark.sql import SparkSession, DataFrame, functions as F\n",
        "from pyspark.ml.feature import Imputer, StringIndexer, VectorIndexer, VectorAssembler, PCA, Bucketizer\n",
        "from pyspark.ml.classification import RandomForestClassifier\n",
        "from pyspark.ml import Pipeline\n",
        "\n",
        "import pandas as pd\n",
        "import os\n"
      ]
    },
    {
      "cell_type": "code",
      "execution_count": null,
      "id": "9a9fabd8",
      "metadata": {
        "id": "9a9fabd8"
      },
      "outputs": [],
      "source": [
        "spark = SparkSession.builder.appName(\"Diamonds\").config('spark.driver.memory','15g').getOrCreate()"
      ]
    },
    {
      "cell_type": "code",
      "execution_count": null,
      "id": "b93f4903",
      "metadata": {
        "id": "b93f4903",
        "outputId": "119b3d3d-a1b4-4074-f437-b872a2552454"
      },
      "outputs": [
        {
          "data": {
            "text/html": [
              "\n",
              "            <div>\n",
              "                <p><b>SparkSession - in-memory</b></p>\n",
              "                \n",
              "        <div>\n",
              "            <p><b>SparkContext</b></p>\n",
              "\n",
              "            <p><a href=\"http://d282a33ffd03:4040\">Spark UI</a></p>\n",
              "\n",
              "            <dl>\n",
              "              <dt>Version</dt>\n",
              "                <dd><code>v3.1.1</code></dd>\n",
              "              <dt>Master</dt>\n",
              "                <dd><code>local[*]</code></dd>\n",
              "              <dt>AppName</dt>\n",
              "                <dd><code>Diamonds</code></dd>\n",
              "            </dl>\n",
              "        </div>\n",
              "        \n",
              "            </div>\n",
              "        "
            ],
            "text/plain": [
              "<pyspark.sql.session.SparkSession at 0x7fbb0709a4f0>"
            ]
          },
          "execution_count": 14,
          "metadata": {},
          "output_type": "execute_result"
        }
      ],
      "source": [
        "spark"
      ]
    },
    {
      "cell_type": "code",
      "execution_count": null,
      "id": "0c9eb024",
      "metadata": {
        "id": "0c9eb024"
      },
      "outputs": [],
      "source": [
        "data = spark.read.csv(\"diamonds.csv\", header=True, inferSchema=True)"
      ]
    },
    {
      "cell_type": "code",
      "execution_count": null,
      "id": "541bb341",
      "metadata": {
        "id": "541bb341",
        "outputId": "2e088950-5773-4184-e39d-bf2be021f693"
      },
      "outputs": [
        {
          "name": "stdout",
          "output_type": "stream",
          "text": [
            "root\n",
            " |-- carat: double (nullable = true)\n",
            " |-- cut: string (nullable = true)\n",
            " |-- color: string (nullable = true)\n",
            " |-- clarity: string (nullable = true)\n",
            " |-- depth: double (nullable = true)\n",
            " |-- table: double (nullable = true)\n",
            " |-- price: double (nullable = true)\n",
            " |-- 'x': double (nullable = true)\n",
            " |-- 'y': double (nullable = true)\n",
            " |-- 'z': double (nullable = true)\n",
            "\n"
          ]
        }
      ],
      "source": [
        "data.printSchema()"
      ]
    },
    {
      "cell_type": "code",
      "execution_count": null,
      "id": "b37182f7",
      "metadata": {
        "id": "b37182f7",
        "outputId": "43a98c21-cadc-4344-b553-f88e8fc95c18"
      },
      "outputs": [
        {
          "name": "stdout",
          "output_type": "stream",
          "text": [
            "+-------+------------------+------------+-----+-------+------------------+------------------+-----------------+------------------+------------------+------------------+\n",
            "|summary|             carat|         cut|color|clarity|             depth|             table|            price|               'x'|               'y'|               'z'|\n",
            "+-------+------------------+------------+-----+-------+------------------+------------------+-----------------+------------------+------------------+------------------+\n",
            "|  count|             53940|       53940|53940|  53940|             53940|             53940|            53940|             53940|             53940|             53940|\n",
            "|   mean|0.7979397478679852|        null| null|   null| 61.74940489432624| 57.45718390804603|3932.799721913237| 5.731157211716609| 5.734525954764462|3.5387337782723316|\n",
            "| stddev|0.4740112444054196|        null| null|   null|1.4326213188336525|2.2344905628213247|3989.439738146397|1.1217607467924915|1.1421346741235616|0.7056988469499883|\n",
            "|    min|               0.2|     b'Fair'| b'D'|  b'I1'|              43.0|              43.0|            326.0|               0.0|               0.0|               0.0|\n",
            "|    max|              5.01|b'Very Good'| b'J'|b'VVS2'|              79.0|              95.0|          18823.0|             10.74|              58.9|              31.8|\n",
            "+-------+------------------+------------+-----+-------+------------------+------------------+-----------------+------------------+------------------+------------------+\n",
            "\n"
          ]
        }
      ],
      "source": [
        "data.describe().show()\n"
      ]
    },
    {
      "cell_type": "code",
      "execution_count": null,
      "id": "e8c78fc4",
      "metadata": {
        "id": "e8c78fc4"
      },
      "outputs": [],
      "source": []
    }
  ],
  "metadata": {
    "kernelspec": {
      "display_name": "Python 3",
      "language": "python",
      "name": "python3"
    },
    "language_info": {
      "codemirror_mode": {
        "name": "ipython",
        "version": 3
      },
      "file_extension": ".py",
      "mimetype": "text/x-python",
      "name": "python",
      "nbconvert_exporter": "python",
      "pygments_lexer": "ipython3",
      "version": "3.8.8"
    },
    "colab": {
      "provenance": [],
      "include_colab_link": true
    }
  },
  "nbformat": 4,
  "nbformat_minor": 5
}